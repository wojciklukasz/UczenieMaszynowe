{
 "cells": [
  {
   "cell_type": "markdown",
   "metadata": {},
   "source": [
    "# Exercises\n",
    "\n",
    "There are three exercises in this notebook:\n",
    "\n",
    "1. Use the cross-validation method to test the linear regression with different $\\alpha$ values, at least three.\n",
    "2. Implement a SGD method that will train the Lasso regression for 10 epochs.\n",
    "3. Extend the Fisher's classifier to work with two features. Use the class as the $y$."
   ]
  },
  {
   "cell_type": "markdown",
   "metadata": {},
   "source": [
    "## 1. Cross-validation linear regression\n",
    "\n",
    "You need to change the variable ``alpha`` to be a list of alphas. Next do a loop and finally compare the results."
   ]
  },
  {
   "cell_type": "code",
   "execution_count": 1,
   "metadata": {},
   "outputs": [
    {
     "data": {
      "text/plain": "             w1        w2\n0.1 -101.723971  1.169788\n0.2  -70.751422  0.994451\n0.3  -54.237043  0.900962\n0.4  -43.972861  0.842856\n0.5  -36.975220  0.803242",
      "text/html": "<div>\n<style scoped>\n    .dataframe tbody tr th:only-of-type {\n        vertical-align: middle;\n    }\n\n    .dataframe tbody tr th {\n        vertical-align: top;\n    }\n\n    .dataframe thead th {\n        text-align: right;\n    }\n</style>\n<table border=\"1\" class=\"dataframe\">\n  <thead>\n    <tr style=\"text-align: right;\">\n      <th></th>\n      <th>w1</th>\n      <th>w2</th>\n    </tr>\n  </thead>\n  <tbody>\n    <tr>\n      <th>0.1</th>\n      <td>-101.723971</td>\n      <td>1.169788</td>\n    </tr>\n    <tr>\n      <th>0.2</th>\n      <td>-70.751422</td>\n      <td>0.994451</td>\n    </tr>\n    <tr>\n      <th>0.3</th>\n      <td>-54.237043</td>\n      <td>0.900962</td>\n    </tr>\n    <tr>\n      <th>0.4</th>\n      <td>-43.972861</td>\n      <td>0.842856</td>\n    </tr>\n    <tr>\n      <th>0.5</th>\n      <td>-36.975220</td>\n      <td>0.803242</td>\n    </tr>\n  </tbody>\n</table>\n</div>"
     },
     "execution_count": 1,
     "metadata": {},
     "output_type": "execute_result"
    }
   ],
   "source": [
    "import numpy as np\n",
    "import matplotlib.pyplot as plt\n",
    "import pandas as pd\n",
    "\n",
    "x = np.array([188, 181, 197, 168, 167, 187, 178, 194, 140, 176, 168, 192, 173, 142, 176]).reshape(-1, 1).reshape(15,1)\n",
    "y = np.array([141, 106, 149, 59, 79, 136, 65, 136, 52, 87, 115, 140, 82, 69, 121]).reshape(-1, 1).reshape(15,1)\n",
    "\n",
    "x = np.asmatrix(np.c_[np.ones((15,1)),x])\n",
    "\n",
    "I = np.identity(2)\n",
    "alpha = [0.1, 0.2, 0.3, 0.4, 0.5]\n",
    "\n",
    "ws = list()\n",
    "for a in alpha:\n",
    "    w = np.linalg.inv(x.T*x + a * I)*x.T*y\n",
    "    w=w.ravel()\n",
    "    ws.append(w.tolist())\n",
    "\n",
    "ws = np.array(ws).reshape(5, 2)\n",
    "result = pd.DataFrame(data=ws, index=alpha, columns=['w1', 'w2'])\n",
    "result\n"
   ]
  },
  {
   "cell_type": "markdown",
   "metadata": {},
   "source": [
    "## 2. Implement based on the Ridge regression example, the Lasso regression.\n",
    "\n",
    "Please implement the SGD method and compare the results with the sklearn Lasso regression results. "
   ]
  },
  {
   "cell_type": "code",
   "execution_count": 3,
   "metadata": {},
   "outputs": [],
   "source": [
    "def sgd(x, y, alpha):\n",
    "    data = np.linalg.norm(x, axis=0)\n",
    "    print(data)"
   ]
  },
  {
   "cell_type": "code",
   "execution_count": 7,
   "metadata": {},
   "outputs": [
    {
     "name": "stdout",
     "output_type": "stream",
     "text": [
      "[  3.87298335 681.21142093]\n"
     ]
    }
   ],
   "source": [
    "x = np.array([188, 181, 197, 168, 167, 187, 178, 194, 140, 176, 168, 192, 173, 142, 176]).reshape(-1, 1).reshape(15,1)\n",
    "y = np.array([141, 106, 149, 59, 79, 136, 65, 136, 52, 87, 115, 140, 82, 69, 121]).reshape(-1, 1).reshape(15,1)\n",
    "\n",
    "x = np.asmatrix(np.c_[np.ones((15,1)),x])\n",
    "\n",
    "I = np.identity(2)\n",
    "alpha = 0.1 \n",
    "\n",
    "\n",
    "w = np.linalg.inv(x.T*x + alpha * I)*x.T*y # update this line\n",
    "w=w.ravel()\n",
    "\n",
    "sgd(x, y, alpha)\n"
   ]
  },
  {
   "cell_type": "markdown",
   "metadata": {},
   "source": [
    "## 3. Extend the Fisher's classifier\n",
    "\n",
    "Please extend the targets of the ``iris_data`` variable and use it as the $y$."
   ]
  },
  {
   "cell_type": "code",
   "execution_count": 2,
   "metadata": {},
   "outputs": [
    {
     "name": "stdout",
     "output_type": "stream",
     "text": [
      "300\n"
     ]
    },
    {
     "data": {
      "text/plain": "        width    length\n0    0.924785  1.051418\n1    0.885212  1.035589\n2    0.901042  1.019760\n3    0.893127  1.011845\n4    0.932700  1.043504\n..        ...       ...\n145  0.885212  1.178051\n146  0.845640  1.146393\n147  0.885212  1.162222\n148  0.916871  1.138479\n149  0.885212  1.114735\n\n[150 rows x 2 columns]",
      "text/html": "<div>\n<style scoped>\n    .dataframe tbody tr th:only-of-type {\n        vertical-align: middle;\n    }\n\n    .dataframe tbody tr th {\n        vertical-align: top;\n    }\n\n    .dataframe thead th {\n        text-align: right;\n    }\n</style>\n<table border=\"1\" class=\"dataframe\">\n  <thead>\n    <tr style=\"text-align: right;\">\n      <th></th>\n      <th>width</th>\n      <th>length</th>\n    </tr>\n  </thead>\n  <tbody>\n    <tr>\n      <th>0</th>\n      <td>0.924785</td>\n      <td>1.051418</td>\n    </tr>\n    <tr>\n      <th>1</th>\n      <td>0.885212</td>\n      <td>1.035589</td>\n    </tr>\n    <tr>\n      <th>2</th>\n      <td>0.901042</td>\n      <td>1.019760</td>\n    </tr>\n    <tr>\n      <th>3</th>\n      <td>0.893127</td>\n      <td>1.011845</td>\n    </tr>\n    <tr>\n      <th>4</th>\n      <td>0.932700</td>\n      <td>1.043504</td>\n    </tr>\n    <tr>\n      <th>...</th>\n      <td>...</td>\n      <td>...</td>\n    </tr>\n    <tr>\n      <th>145</th>\n      <td>0.885212</td>\n      <td>1.178051</td>\n    </tr>\n    <tr>\n      <th>146</th>\n      <td>0.845640</td>\n      <td>1.146393</td>\n    </tr>\n    <tr>\n      <th>147</th>\n      <td>0.885212</td>\n      <td>1.162222</td>\n    </tr>\n    <tr>\n      <th>148</th>\n      <td>0.916871</td>\n      <td>1.138479</td>\n    </tr>\n    <tr>\n      <th>149</th>\n      <td>0.885212</td>\n      <td>1.114735</td>\n    </tr>\n  </tbody>\n</table>\n<p>150 rows × 2 columns</p>\n</div>"
     },
     "execution_count": 2,
     "metadata": {},
     "output_type": "execute_result"
    }
   ],
   "source": [
    "import pandas as pd\n",
    "import numpy as np\n",
    "import matplotlib.pyplot as plt\n",
    "from sklearn.datasets import load_iris\n",
    "\n",
    "iris_data = load_iris()\n",
    "iris_df = pd.DataFrame(iris_data.data,columns=iris_data.feature_names)\n",
    "iris_df.head()\n",
    "\n",
    "x = iris_df[['sepal width (cm)', 'sepal length (cm)']].values\n",
    "y = pd.DataFrame(iris_data.target).values\n",
    "\n",
    "dataset_size = np.size(x)\n",
    "print(dataset_size)\n",
    "\n",
    "mean_x, mean_y = np.mean(x), np.mean(y)\n",
    "\n",
    "SS_xy = np.sum(y * x) - dataset_size * mean_y * mean_x\n",
    "SS_xx = np.sum(x * x) - dataset_size * mean_x * mean_x\n",
    "\n",
    "a = SS_xy / SS_xx\n",
    "b = mean_y - a * mean_x\n",
    "\n",
    "\n",
    "y_pred = a * x + b\n",
    "result = pd.DataFrame(data=np.asarray(y_pred).flatten().reshape(150, 2), columns=['width', 'length'])\n",
    "result"
   ]
  },
  {
   "cell_type": "code",
   "execution_count": null,
   "outputs": [],
   "source": [],
   "metadata": {
    "collapsed": false,
    "pycharm": {
     "name": "#%%\n"
    }
   }
  }
 ],
 "metadata": {
  "kernelspec": {
   "display_name": "Python 3",
   "language": "python",
   "name": "python3"
  },
  "language_info": {
   "codemirror_mode": {
    "name": "ipython",
    "version": 3
   },
   "file_extension": ".py",
   "mimetype": "text/x-python",
   "name": "python",
   "nbconvert_exporter": "python",
   "pygments_lexer": "ipython3",
   "version": "3.6.9"
  }
 },
 "nbformat": 4,
 "nbformat_minor": 4
}